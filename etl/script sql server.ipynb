{
 "cells": [
  {
   "cell_type": "code",
   "execution_count": 9,
   "id": "b66fa60c",
   "metadata": {},
   "outputs": [
    {
     "name": "stdout",
     "output_type": "stream",
     "text": [
      "Requirement already satisfied: python-dotenv in c:\\users\\michelle\\anaconda3\\lib\\site-packages (1.0.0)\n",
      "Note: you may need to restart the kernel to use updated packages.\n"
     ]
    },
    {
     "name": "stderr",
     "output_type": "stream",
     "text": [
      "WARNING: Ignoring invalid distribution -rotobuf (c:\\users\\michelle\\anaconda3\\lib\\site-packages)\n",
      "WARNING: Ignoring invalid distribution -rotobuf (c:\\users\\michelle\\anaconda3\\lib\\site-packages)\n",
      "WARNING: Ignoring invalid distribution -rotobuf (c:\\users\\michelle\\anaconda3\\lib\\site-packages)\n",
      "WARNING: Ignoring invalid distribution -rotobuf (c:\\users\\michelle\\anaconda3\\lib\\site-packages)\n",
      "WARNING: Ignoring invalid distribution -rotobuf (c:\\users\\michelle\\anaconda3\\lib\\site-packages)\n",
      "WARNING: Ignoring invalid distribution -rotobuf (c:\\users\\michelle\\anaconda3\\lib\\site-packages)\n"
     ]
    }
   ],
   "source": [
    "pip install python-dotenv"
   ]
  },
  {
   "cell_type": "code",
   "execution_count": 13,
   "id": "e01b9bf3",
   "metadata": {},
   "outputs": [],
   "source": [
    "import pyodbc\n",
    "import pandas as pd\n",
    "from google.oauth2 import service_account\n",
    "from dotenv import load_dotenv\n",
    "import os\n",
    "from google.cloud import bigquery"
   ]
  },
  {
   "cell_type": "markdown",
   "id": "4ad868d3",
   "metadata": {},
   "source": [
    "## Extract Data"
   ]
  },
  {
   "cell_type": "code",
   "execution_count": 2,
   "id": "322b22b6",
   "metadata": {},
   "outputs": [],
   "source": [
    "# Define the connection string to the database\n",
    "\n",
    "conn = pyodbc.connect('DRIVER={SQL Server};SERVER=DESKTOP-F43K071;DATABASE=ContosoRetailDW')\n"
   ]
  },
  {
   "cell_type": "code",
   "execution_count": 3,
   "id": "a8918e0c",
   "metadata": {},
   "outputs": [
    {
     "name": "stdout",
     "output_type": "stream",
     "text": [
      "('DimMachine', )\n",
      "('DimProductSubcategory', )\n",
      "('DimProduct', )\n",
      "('DimProductCategory', )\n",
      "('DimEntity', )\n",
      "('DimSalesTerritory', )\n",
      "('DimCurrency', )\n",
      "('DimOutage', )\n",
      "('DimChannel', )\n",
      "('DimScenario', )\n",
      "('DimAccount', )\n",
      "('DimPromotion', )\n",
      "('DimCustomer', )\n",
      "('DimEmployee', )\n",
      "('DimDate', )\n",
      "('FactExchangeRate', )\n",
      "('FactITMachine', )\n",
      "('FactITSLA', )\n",
      "('FactOnlineSales', )\n",
      "('FactStrategyPlan', )\n",
      "('FactSales', )\n",
      "('FactInventory', )\n",
      "('sysdiagrams', )\n",
      "('FactSalesQuota', )\n",
      "('DimStore', )\n",
      "('DimGeography', )\n"
     ]
    }
   ],
   "source": [
    "# Create a cursor object to interact with the database\n",
    "\n",
    "cursor = conn.cursor()\n",
    "\n",
    "# Execute a SQL query to retrieve the table names from the database schema\n",
    "\n",
    "cursor.execute(\"SELECT table_name FROM information_schema.tables WHERE table_type = 'BASE TABLE' AND table_catalog='ContosoRetailDW'\")\n",
    "\n",
    "# Loop over the results and print each table name\n",
    "\n",
    "for table in cursor.fetchall():\n",
    "    print(table)"
   ]
  },
  {
   "cell_type": "code",
   "execution_count": 19,
   "id": "7b12d7b2",
   "metadata": {},
   "outputs": [
    {
     "name": "stderr",
     "output_type": "stream",
     "text": [
      "C:\\Users\\MICHELLE\\anaconda3\\lib\\site-packages\\pandas\\io\\sql.py:762: UserWarning: pandas only support SQLAlchemy connectable(engine/connection) ordatabase string URI or sqlite3 DBAPI2 connectionother DBAPI2 objects are not tested, please consider using SQLAlchemy\n",
      "  warnings.warn(\n"
     ]
    }
   ],
   "source": [
    "# Execute a SQL query to retrieve data from the desired table\n",
    "\n",
    "sql_query = \"SELECT * FROM dbo.DimMachine\"\n",
    "machine_df = pd.read_sql(sql_query, conn)"
   ]
  },
  {
   "cell_type": "code",
   "execution_count": 20,
   "id": "251c0397",
   "metadata": {},
   "outputs": [
    {
     "name": "stdout",
     "output_type": "stream",
     "text": [
      "   MachineKey MachineLabel  StoreKey MachineType  \\\n",
      "0           1   POS0100101         1       POS01   \n",
      "1           2   POS0100102         1       POS01   \n",
      "2           3   POS0100103         1       POS01   \n",
      "3           4   POS0100104         1       POS01   \n",
      "4           5   POS0100105         1       POS01   \n",
      "\n",
      "                     MachineName  \\\n",
      "0  Fabrikam Point of Sale 4-in-1   \n",
      "1  Fabrikam Point of Sale 4-in-1   \n",
      "2  Fabrikam Point of Sale 4-in-1   \n",
      "3  Fabrikam Point of Sale 4-in-1   \n",
      "4  Fabrikam Point of Sale 4-in-1   \n",
      "\n",
      "                                  MachineDescription      VendorName  \\\n",
      "0  Kit contains one convenient box, barcode scann...  Fabrikam, Inc.   \n",
      "1  Kit contains one convenient box, barcode scann...  Fabrikam, Inc.   \n",
      "2  Kit contains one convenient box, barcode scann...  Fabrikam, Inc.   \n",
      "3  Kit contains one convenient box, barcode scann...  Fabrikam, Inc.   \n",
      "4  Kit contains one convenient box, barcode scann...  Fabrikam, Inc.   \n",
      "\n",
      "  MachineOS MachineSource                        MachineHardware  \\\n",
      "0  Linux2.6         Store  15\" LCD screen; 4 USB ports (USB 1.0)   \n",
      "1  Linux2.6         Store  15\" LCD screen; 4 USB ports (USB 1.0)   \n",
      "2  Linux2.6         Store  15\" LCD screen; 4 USB ports (USB 1.0)   \n",
      "3  Linux2.6         Store  15\" LCD screen; 4 USB ports (USB 1.0)   \n",
      "4  Linux2.6         Store  15\" LCD screen; 4 USB ports (USB 1.0)   \n",
      "\n",
      "  MachineSoftware Status ServiceStartDate DecommissionDate LastModifiedDate  \\\n",
      "0        Linux2.6   Used       2004-04-12       2010-06-16       2009-07-10   \n",
      "1        Linux2.6   Used       2004-04-12       2011-06-17       2009-07-06   \n",
      "2        Linux2.6   Used       2004-04-12       2015-01-01       2009-07-06   \n",
      "3        Linux2.6   Used       2004-04-12       2014-06-16       2009-07-06   \n",
      "4        Linux2.6   Used       2004-04-12       2010-06-16       2009-07-06   \n",
      "\n",
      "   ETLLoadID   LoadDate UpdateDate  \n",
      "0          1 2009-07-10 2009-07-10  \n",
      "1          1 2009-07-06 2009-07-06  \n",
      "2          1 2009-07-06 2009-07-06  \n",
      "3          1 2009-07-06 2009-07-06  \n",
      "4          1 2009-07-06 2009-07-06  \n"
     ]
    }
   ],
   "source": [
    "# Print Your DataFrame\n",
    "\n",
    "print(machine_df.head())"
   ]
  },
  {
   "cell_type": "code",
   "execution_count": 21,
   "id": "e191220f",
   "metadata": {},
   "outputs": [
    {
     "name": "stderr",
     "output_type": "stream",
     "text": [
      "C:\\Users\\MICHELLE\\anaconda3\\lib\\site-packages\\pandas\\io\\sql.py:762: UserWarning: pandas only support SQLAlchemy connectable(engine/connection) ordatabase string URI or sqlite3 DBAPI2 connectionother DBAPI2 objects are not tested, please consider using SQLAlchemy\n",
      "  warnings.warn(\n"
     ]
    }
   ],
   "source": [
    "# Execute a SQL query to retrieve data from the desired table\n",
    "\n",
    "sql_query = \"SELECT * FROM dbo.DimProduct\"\n",
    "product_df = pd.read_sql(sql_query, conn)"
   ]
  },
  {
   "cell_type": "code",
   "execution_count": 22,
   "id": "3aaa05e5",
   "metadata": {},
   "outputs": [
    {
     "name": "stdout",
     "output_type": "stream",
     "text": [
      "   ProductKey ProductLabel                          ProductName  \\\n",
      "0           1      0101001  Contoso 512MB MP3 Player E51 Silver   \n",
      "1           2      0101002    Contoso 512MB MP3 Player E51 Blue   \n",
      "2           3      0101003     Contoso 1G MP3 Player E100 White   \n",
      "3           4      0101004    Contoso 2G MP3 Player E200 Silver   \n",
      "4           5      0101005       Contoso 2G MP3 Player E200 Red   \n",
      "\n",
      "                                  ProductDescription  ProductSubcategoryKey  \\\n",
      "0                 512MB USB driver plays MP3 and WMA                      1   \n",
      "1                 512MB USB driver plays MP3 and WMA                      1   \n",
      "2  1GB flash memory and USB driver plays MP3 and WMA                      1   \n",
      "3   2GB flash memory, LCD display, plays MP3 and WMA                      1   \n",
      "4   2GB flash memory, LCD display, plays MP3 and WMA                      1   \n",
      "\n",
      "   Manufacturer BrandName ClassID ClassName StyleID  ... UnitCost UnitPrice  \\\n",
      "0  Contoso, Ltd   Contoso       1   Economy       1  ...     6.62     12.99   \n",
      "1  Contoso, Ltd   Contoso       1   Economy       5  ...     6.62     12.99   \n",
      "2  Contoso, Ltd   Contoso       1   Economy       1  ...     7.40     14.52   \n",
      "3  Contoso, Ltd   Contoso       1   Economy       1  ...    11.00     21.57   \n",
      "4  Contoso, Ltd   Contoso       1   Economy       1  ...    11.00     21.57   \n",
      "\n",
      "  AvailableForSaleDate StopSaleDate Status ImageURL  ProductURL ETLLoadID  \\\n",
      "0           2005-05-03         None     On     None        None         1   \n",
      "1           2005-05-03         None     On     None        None         1   \n",
      "2           2006-05-13         None     On     None        None         1   \n",
      "3           2006-12-16         None     On     None        None         1   \n",
      "4           2006-12-17         None     On     None        None         1   \n",
      "\n",
      "             LoadDate          UpdateDate  \n",
      "0 2008-05-25 08:01:12 2008-05-25 08:01:12  \n",
      "1 2008-05-26 08:01:12 2008-05-26 08:01:12  \n",
      "2 2008-05-27 08:01:12 2008-05-27 08:01:12  \n",
      "3 2008-05-28 08:01:12 2008-05-28 08:01:12  \n",
      "4 2008-05-29 08:01:12 2008-05-29 08:01:12  \n",
      "\n",
      "[5 rows x 32 columns]\n"
     ]
    }
   ],
   "source": [
    "# Print Your DataFrame\n",
    "\n",
    "print(product_df.head())"
   ]
  },
  {
   "cell_type": "code",
   "execution_count": null,
   "id": "962d30fe",
   "metadata": {},
   "outputs": [],
   "source": []
  },
  {
   "cell_type": "markdown",
   "id": "407e8292",
   "metadata": {},
   "source": [
    "## Load Data"
   ]
  },
  {
   "cell_type": "code",
   "execution_count": 15,
   "id": "1f2bd138",
   "metadata": {},
   "outputs": [],
   "source": [
    "from google.oauth2.service_account import Credentials\n",
    "\n",
    "credentials = Credentials.from_service_account_file(credentials_path)"
   ]
  },
  {
   "cell_type": "code",
   "execution_count": 16,
   "id": "358cb368",
   "metadata": {},
   "outputs": [],
   "source": [
    "load_dotenv()\n",
    "credentials_path = os.path.join(os.environ['USERPROFILE'], 'Documents', 'credentials_path', 'gbq.json')\n",
    "credentials = Credentials.from_service_account_file(credentials_path)"
   ]
  },
  {
   "cell_type": "code",
   "execution_count": 17,
   "id": "b74bcfac",
   "metadata": {},
   "outputs": [
    {
     "name": "stderr",
     "output_type": "stream",
     "text": [
      "100%|██████████| 1/1 [00:00<?, ?it/s]\n"
     ]
    }
   ],
   "source": [
    "machine_df.to_gbq(credentials=credentials, destination_table='etl_sqlserver.machine_df',\n",
    "                 if_exists='replace',\n",
    "                   project_id='second-grail-352314'\n",
    "                  )"
   ]
  },
  {
   "cell_type": "code",
   "execution_count": 23,
   "id": "5c2c1ff0",
   "metadata": {},
   "outputs": [
    {
     "name": "stderr",
     "output_type": "stream",
     "text": [
      "100%|██████████| 1/1 [00:00<?, ?it/s]\n"
     ]
    }
   ],
   "source": [
    "product_df.to_gbq(credentials=credentials, destination_table='etl_sqlserver.product_df',\n",
    "                 if_exists='replace',\n",
    "                   project_id='second-grail-352314'\n",
    "                  )"
   ]
  },
  {
   "cell_type": "code",
   "execution_count": 24,
   "id": "a1d9457b",
   "metadata": {},
   "outputs": [],
   "source": [
    "### Schemas\n",
    "\n",
    "# FactSales==DimDate, Dimchannel,DimStore,DimProduct,DimPromotion,DimCurrency\n",
    "# FactExchangeRate==DimCurrency\n",
    "# FactInventory==DimStore,DimDate,DimProduct,DimCurrency\n",
    "# FactITMachine==DimMachine,DimDate\n",
    "# FactITSLA == DimDate,DimStore,DimMachine,DimOutage\n",
    "# FactOnlineSales==DimDate,DimStore,DimProduct,DimPromotion,DimCurrency,DimCustomer\n",
    "# FactSalesQuota==DimSalesQuota,DimChannel,DimStore,DimProduct,DimDate,DimCurrency,DimScenario\n",
    "# FactStrategyPlan==DimDate,DimScenario,DimAccount,DimCurrency,DimProductCategory"
   ]
  },
  {
   "cell_type": "code",
   "execution_count": null,
   "id": "bf0b4551",
   "metadata": {},
   "outputs": [],
   "source": []
  }
 ],
 "metadata": {
  "kernelspec": {
   "display_name": "Python 3 (ipykernel)",
   "language": "python",
   "name": "python3"
  },
  "language_info": {
   "codemirror_mode": {
    "name": "ipython",
    "version": 3
   },
   "file_extension": ".py",
   "mimetype": "text/x-python",
   "name": "python",
   "nbconvert_exporter": "python",
   "pygments_lexer": "ipython3",
   "version": "3.9.13"
  }
 },
 "nbformat": 4,
 "nbformat_minor": 5
}

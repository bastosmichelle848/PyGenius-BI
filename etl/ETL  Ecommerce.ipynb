{
 "cells": [
  {
   "cell_type": "code",
   "execution_count": 23,
   "id": "bc576524",
   "metadata": {},
   "outputs": [
    {
     "name": "stdout",
     "output_type": "stream",
     "text": [
      "Collecting python-dotenv\n",
      "  Downloading python_dotenv-1.0.0-py3-none-any.whl (19 kB)\n",
      "Installing collected packages: python-dotenv\n",
      "Successfully installed python-dotenv-1.0.0\n",
      "Note: you may need to restart the kernel to use updated packages.\n"
     ]
    },
    {
     "name": "stderr",
     "output_type": "stream",
     "text": [
      "WARNING: Ignoring invalid distribution -rotobuf (c:\\users\\michelle\\anaconda3\\lib\\site-packages)\n",
      "WARNING: Ignoring invalid distribution -rotobuf (c:\\users\\michelle\\anaconda3\\lib\\site-packages)\n",
      "WARNING: Ignoring invalid distribution -rotobuf (c:\\users\\michelle\\anaconda3\\lib\\site-packages)\n",
      "WARNING: Ignoring invalid distribution -rotobuf (c:\\users\\michelle\\anaconda3\\lib\\site-packages)\n",
      "WARNING: Ignoring invalid distribution -rotobuf (c:\\users\\michelle\\anaconda3\\lib\\site-packages)\n",
      "WARNING: Ignoring invalid distribution -rotobuf (c:\\users\\michelle\\anaconda3\\lib\\site-packages)\n",
      "WARNING: Ignoring invalid distribution -rotobuf (c:\\users\\michelle\\anaconda3\\lib\\site-packages)\n"
     ]
    }
   ],
   "source": [
    "pip install python-dotenv"
   ]
  },
  {
   "cell_type": "code",
   "execution_count": 24,
   "id": "77a79b93",
   "metadata": {},
   "outputs": [],
   "source": [
    "import pandas as pd\n",
    "from google.oauth2 import service_account\n",
    "from dotenv import load_dotenv\n",
    "import os"
   ]
  },
  {
   "cell_type": "markdown",
   "id": "43ec00d4",
   "metadata": {},
   "source": [
    "## Extract Data\n"
   ]
  },
  {
   "cell_type": "code",
   "execution_count": 2,
   "id": "ac69e76c",
   "metadata": {},
   "outputs": [],
   "source": [
    "# List all the names of files\n",
    "\n",
    "files = ['categories.csv', 'products.csv', 'orders.csv', 'items.csv', 'customers.csv']\n"
   ]
  },
  {
   "cell_type": "code",
   "execution_count": 3,
   "id": "70a6897a",
   "metadata": {},
   "outputs": [],
   "source": [
    "# Storage dataframe in a dictionary\n",
    "\n",
    "dataframes = {}\n"
   ]
  },
  {
   "cell_type": "markdown",
   "id": "fbe7e1d5",
   "metadata": {},
   "source": [
    "## Transform Data\n"
   ]
  },
  {
   "cell_type": "code",
   "execution_count": 4,
   "id": "a4e10003",
   "metadata": {},
   "outputs": [],
   "source": [
    "# Load each CSV file in a dataframe and add a dictionary\n",
    "\n",
    "for file in files:\n",
    "    df=pd.read_csv(file)\n",
    "    dataframes[file] = df"
   ]
  },
  {
   "cell_type": "code",
   "execution_count": 10,
   "id": "1f68d59b",
   "metadata": {},
   "outputs": [
    {
     "name": "stdout",
     "output_type": "stream",
     "text": [
      "   id                     name\n",
      "0   0        Moda e Acessórios\n",
      "1   1  Cosméticos e Perfumaria\n",
      "2   2         Eletrodomésticos\n",
      "3   3                   Livros\n",
      "4   4                Celulares\n"
     ]
    }
   ],
   "source": [
    "# Load categories file in a dataframe\n",
    "\n",
    "categories_df=pd.read_csv('categories.csv')\n",
    "print(categories_df.head())"
   ]
  },
  {
   "cell_type": "code",
   "execution_count": 11,
   "id": "c5cd4a6f",
   "metadata": {},
   "outputs": [
    {
     "data": {
      "text/plain": [
       "id       int64\n",
       "name    object\n",
       "dtype: object"
      ]
     },
     "execution_count": 11,
     "metadata": {},
     "output_type": "execute_result"
    }
   ],
   "source": [
    "categories_df.dtypes"
   ]
  },
  {
   "cell_type": "code",
   "execution_count": 6,
   "id": "d2ea115b",
   "metadata": {},
   "outputs": [
    {
     "name": "stdout",
     "output_type": "stream",
     "text": [
      "   id     name  price  category_id\n",
      "0   0   Sapato     96            0\n",
      "1   1    Bolsa     21            0\n",
      "2   2    Calça     75            0\n",
      "3   3   Camisa     70            0\n",
      "4   4  Vestido     57            0\n"
     ]
    }
   ],
   "source": [
    "# Load products file in a dataframe\n",
    "\n",
    "products_df=pd.read_csv('products.csv')\n",
    "print(products_df.head())"
   ]
  },
  {
   "cell_type": "code",
   "execution_count": 12,
   "id": "fbdd1eca",
   "metadata": {},
   "outputs": [
    {
     "data": {
      "text/plain": [
       "id              int64\n",
       "name           object\n",
       "price           int64\n",
       "category_id     int64\n",
       "dtype: object"
      ]
     },
     "execution_count": 12,
     "metadata": {},
     "output_type": "execute_result"
    }
   ],
   "source": [
    "products_df.dtypes"
   ]
  },
  {
   "cell_type": "code",
   "execution_count": 7,
   "id": "2e599021",
   "metadata": {},
   "outputs": [
    {
     "name": "stdout",
     "output_type": "stream",
     "text": [
      "   id           created_at  customer_id              status\n",
      "0   0  2019-08-28 03:36:31           91            entregue\n",
      "1   1  2019-08-16 20:21:30            7            entregue\n",
      "2   2  2019-07-11 11:00:06           26  pagamento_pendente\n",
      "3   3  2019-08-27 21:04:41           92  pagamento_pendente\n",
      "4   4  2019-11-03 19:58:37           63    entrega_pendente\n"
     ]
    }
   ],
   "source": [
    "# Load orders file in a dataframe\n",
    "\n",
    "orders_df=pd.read_csv('orders.csv')\n",
    "print(orders_df.head())"
   ]
  },
  {
   "cell_type": "code",
   "execution_count": 13,
   "id": "d00afa25",
   "metadata": {},
   "outputs": [
    {
     "data": {
      "text/plain": [
       "id              int64\n",
       "created_at     object\n",
       "customer_id     int64\n",
       "status         object\n",
       "dtype: object"
      ]
     },
     "execution_count": 13,
     "metadata": {},
     "output_type": "execute_result"
    }
   ],
   "source": [
    "orders_df.dtypes"
   ]
  },
  {
   "cell_type": "code",
   "execution_count": 8,
   "id": "2145a44b",
   "metadata": {},
   "outputs": [
    {
     "name": "stdout",
     "output_type": "stream",
     "text": [
      "   id  order_id  product_id  quantity  total_price\n",
      "0   0      7019          28         1          186\n",
      "1   1      8827          29         1          110\n",
      "2   2      3863          38         1          385\n",
      "3   3      5002          37         1          493\n",
      "4   4      6337          28         1          186\n"
     ]
    }
   ],
   "source": [
    "# Load items file in a dataframe\n",
    "\n",
    "items_df=pd.read_csv('items.csv')\n",
    "print(items_df.head())"
   ]
  },
  {
   "cell_type": "code",
   "execution_count": 14,
   "id": "a33349f0",
   "metadata": {},
   "outputs": [
    {
     "data": {
      "text/plain": [
       "id             int64\n",
       "order_id       int64\n",
       "product_id     int64\n",
       "quantity       int64\n",
       "total_price    int64\n",
       "dtype: object"
      ]
     },
     "execution_count": 14,
     "metadata": {},
     "output_type": "execute_result"
    }
   ],
   "source": [
    "items_df.dtypes"
   ]
  },
  {
   "cell_type": "markdown",
   "id": "8e15f11b",
   "metadata": {},
   "source": [
    "## Load Data"
   ]
  },
  {
   "cell_type": "code",
   "execution_count": 33,
   "id": "bd1f7217",
   "metadata": {},
   "outputs": [],
   "source": [
    "load_dotenv()\n",
    "credentials_path = os.path.join(os.environ['USERPROFILE'], 'Documents', 'credentials_path', 'gbq.json')\n",
    "credentials = Credentials.from_service_account_file(credentials_path)\n"
   ]
  },
  {
   "cell_type": "code",
   "execution_count": 34,
   "id": "eb6ac251",
   "metadata": {},
   "outputs": [],
   "source": [
    "from google.oauth2.service_account import Credentials\n",
    "\n",
    "credentials = Credentials.from_service_account_file(credentials_path)"
   ]
  },
  {
   "cell_type": "code",
   "execution_count": 16,
   "id": "2d3de5eb",
   "metadata": {},
   "outputs": [
    {
     "name": "stderr",
     "output_type": "stream",
     "text": [
      "100%|██████████| 1/1 [00:00<?, ?it/s]\n"
     ]
    }
   ],
   "source": [
    "categories_df.to_gbq(credentials=credentials, destination_table='etl_projects.categories', \n",
    "                   if_exists='replace',\n",
    "                   project_id='second-grail-352314'\n",
    "                  )"
   ]
  },
  {
   "cell_type": "code",
   "execution_count": 17,
   "id": "6ccbabf1",
   "metadata": {},
   "outputs": [
    {
     "name": "stderr",
     "output_type": "stream",
     "text": [
      "100%|██████████| 1/1 [00:00<?, ?it/s]\n"
     ]
    }
   ],
   "source": [
    "products_df.to_gbq(credentials=credentials, destination_table='etl_projects.products', \n",
    "                   if_exists='replace',\n",
    "                   project_id='second-grail-352314'\n",
    "                  )"
   ]
  },
  {
   "cell_type": "code",
   "execution_count": 18,
   "id": "1a21059c",
   "metadata": {},
   "outputs": [
    {
     "name": "stderr",
     "output_type": "stream",
     "text": [
      "100%|██████████| 1/1 [00:00<00:00, 1014.83it/s]\n"
     ]
    }
   ],
   "source": [
    "orders_df.to_gbq(credentials=credentials, destination_table='etl_projects.orders', \n",
    "                   if_exists='replace',\n",
    "                   project_id='second-grail-352314'\n",
    "                  )"
   ]
  },
  {
   "cell_type": "code",
   "execution_count": 19,
   "id": "e535d863",
   "metadata": {},
   "outputs": [
    {
     "name": "stderr",
     "output_type": "stream",
     "text": [
      "100%|██████████| 1/1 [00:00<00:00, 1068.07it/s]\n"
     ]
    }
   ],
   "source": [
    "items_df.to_gbq(credentials=credentials, destination_table='etl_projects.items', \n",
    "                   if_exists='replace',\n",
    "                   project_id='second-grail-352314'\n",
    "                  )"
   ]
  },
  {
   "cell_type": "code",
   "execution_count": null,
   "id": "6cc6c931",
   "metadata": {},
   "outputs": [],
   "source": []
  }
 ],
 "metadata": {
  "kernelspec": {
   "display_name": "Python 3 (ipykernel)",
   "language": "python",
   "name": "python3"
  },
  "language_info": {
   "codemirror_mode": {
    "name": "ipython",
    "version": 3
   },
   "file_extension": ".py",
   "mimetype": "text/x-python",
   "name": "python",
   "nbconvert_exporter": "python",
   "pygments_lexer": "ipython3",
   "version": "3.9.13"
  }
 },
 "nbformat": 4,
 "nbformat_minor": 5
}

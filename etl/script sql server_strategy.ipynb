{
 "cells": [
  {
   "cell_type": "code",
   "execution_count": 1,
   "id": "b66fa60c",
   "metadata": {},
   "outputs": [],
   "source": [
    "## pip install python-dotenv"
   ]
  },
  {
   "cell_type": "code",
   "execution_count": 2,
   "id": "e01b9bf3",
   "metadata": {},
   "outputs": [],
   "source": [
    "import pyodbc\n",
    "import pandas as pd\n",
    "from google.oauth2 import service_account\n",
    "from dotenv import load_dotenv\n",
    "import os\n",
    "from google.cloud import bigquery"
   ]
  },
  {
   "cell_type": "markdown",
   "id": "4ad868d3",
   "metadata": {},
   "source": [
    "## Extract Data"
   ]
  },
  {
   "cell_type": "code",
   "execution_count": 3,
   "id": "322b22b6",
   "metadata": {},
   "outputs": [],
   "source": [
    "# Define the connection string to the database\n",
    "\n",
    "conn = pyodbc.connect('DRIVER={SQL Server};SERVER=DESKTOP-F43K071;DATABASE=ContosoRetailDW')\n"
   ]
  },
  {
   "cell_type": "code",
   "execution_count": 4,
   "id": "a8918e0c",
   "metadata": {},
   "outputs": [
    {
     "name": "stdout",
     "output_type": "stream",
     "text": [
      "('DimMachine', )\n",
      "('DimProductSubcategory', )\n",
      "('DimProduct', )\n",
      "('DimProductCategory', )\n",
      "('DimEntity', )\n",
      "('DimSalesTerritory', )\n",
      "('DimCurrency', )\n",
      "('DimOutage', )\n",
      "('DimChannel', )\n",
      "('DimScenario', )\n",
      "('DimAccount', )\n",
      "('DimPromotion', )\n",
      "('DimCustomer', )\n",
      "('DimEmployee', )\n",
      "('DimDate', )\n",
      "('FactExchangeRate', )\n",
      "('FactITMachine', )\n",
      "('FactITSLA', )\n",
      "('FactOnlineSales', )\n",
      "('FactStrategyPlan', )\n",
      "('FactSales', )\n",
      "('FactInventory', )\n",
      "('sysdiagrams', )\n",
      "('FactSalesQuota', )\n",
      "('DimStore', )\n",
      "('DimGeography', )\n"
     ]
    }
   ],
   "source": [
    "# Create a cursor object to interact with the database\n",
    "\n",
    "cursor = conn.cursor()\n",
    "\n",
    "# Execute a SQL query to retrieve the table names from the database schema\n",
    "\n",
    "cursor.execute(\"SELECT table_name FROM information_schema.tables WHERE table_type = 'BASE TABLE' AND table_catalog='ContosoRetailDW'\")\n",
    "\n",
    "# Loop over the results and print each table name\n",
    "\n",
    "for table in cursor.fetchall():\n",
    "    print(table)"
   ]
  },
  {
   "cell_type": "markdown",
   "id": "132ef544",
   "metadata": {},
   "source": [
    "## Retrieve Data"
   ]
  },
  {
   "cell_type": "code",
   "execution_count": 5,
   "id": "7b12d7b2",
   "metadata": {},
   "outputs": [
    {
     "name": "stderr",
     "output_type": "stream",
     "text": [
      "C:\\Users\\MICHELLE\\anaconda3\\lib\\site-packages\\pandas\\io\\sql.py:762: UserWarning: pandas only support SQLAlchemy connectable(engine/connection) ordatabase string URI or sqlite3 DBAPI2 connectionother DBAPI2 objects are not tested, please consider using SQLAlchemy\n",
      "  warnings.warn(\n"
     ]
    }
   ],
   "source": [
    "# Execute a SQL query to retrieve data from the desired table\n",
    "\n",
    "sql_query = \"SELECT * FROM dbo.DimScenario\"\n",
    "dim_scenario = pd.read_sql(sql_query, conn)"
   ]
  },
  {
   "cell_type": "code",
   "execution_count": 6,
   "id": "e191220f",
   "metadata": {},
   "outputs": [
    {
     "name": "stderr",
     "output_type": "stream",
     "text": [
      "C:\\Users\\MICHELLE\\anaconda3\\lib\\site-packages\\pandas\\io\\sql.py:762: UserWarning: pandas only support SQLAlchemy connectable(engine/connection) ordatabase string URI or sqlite3 DBAPI2 connectionother DBAPI2 objects are not tested, please consider using SQLAlchemy\n",
      "  warnings.warn(\n"
     ]
    }
   ],
   "source": [
    "# Execute a SQL query to retrieve data from the desired table\n",
    "\n",
    "sql_query = \"SELECT * FROM dbo.DimAccount\"\n",
    "dim_account = pd.read_sql(sql_query, conn)"
   ]
  },
  {
   "cell_type": "code",
   "execution_count": 7,
   "id": "539bb684",
   "metadata": {
    "scrolled": true
   },
   "outputs": [
    {
     "name": "stderr",
     "output_type": "stream",
     "text": [
      "C:\\Users\\MICHELLE\\anaconda3\\lib\\site-packages\\pandas\\io\\sql.py:762: UserWarning: pandas only support SQLAlchemy connectable(engine/connection) ordatabase string URI or sqlite3 DBAPI2 connectionother DBAPI2 objects are not tested, please consider using SQLAlchemy\n",
      "  warnings.warn(\n"
     ]
    }
   ],
   "source": [
    "# Execute a SQL query to retrieve data from the desired table\n",
    "\n",
    "sql_query = \"SELECT * FROM dbo.DimProductCategory\"\n",
    "dim_productcategory = pd.read_sql(sql_query, conn)"
   ]
  },
  {
   "cell_type": "code",
   "execution_count": 8,
   "id": "e55ead9d",
   "metadata": {},
   "outputs": [
    {
     "name": "stderr",
     "output_type": "stream",
     "text": [
      "C:\\Users\\MICHELLE\\anaconda3\\lib\\site-packages\\pandas\\io\\sql.py:762: UserWarning: pandas only support SQLAlchemy connectable(engine/connection) ordatabase string URI or sqlite3 DBAPI2 connectionother DBAPI2 objects are not tested, please consider using SQLAlchemy\n",
      "  warnings.warn(\n"
     ]
    }
   ],
   "source": [
    "# Execute a SQL query to retrieve data from the desired table\n",
    "\n",
    "sql_query = \"SELECT * FROM dbo.FactStrategyPlan\"\n",
    "fact_strategyplan = pd.read_sql(sql_query, conn)"
   ]
  },
  {
   "cell_type": "markdown",
   "id": "407e8292",
   "metadata": {},
   "source": [
    "## Load Data"
   ]
  },
  {
   "cell_type": "code",
   "execution_count": 9,
   "id": "358cb368",
   "metadata": {},
   "outputs": [
    {
     "ename": "NameError",
     "evalue": "name 'Credentials' is not defined",
     "output_type": "error",
     "traceback": [
      "\u001b[1;31m---------------------------------------------------------------------------\u001b[0m",
      "\u001b[1;31mNameError\u001b[0m                                 Traceback (most recent call last)",
      "\u001b[1;32m~\\AppData\\Local\\Temp\\ipykernel_2596\\2965819101.py\u001b[0m in \u001b[0;36m<module>\u001b[1;34m\u001b[0m\n\u001b[0;32m      1\u001b[0m \u001b[0mload_dotenv\u001b[0m\u001b[1;33m(\u001b[0m\u001b[1;33m)\u001b[0m\u001b[1;33m\u001b[0m\u001b[1;33m\u001b[0m\u001b[0m\n\u001b[0;32m      2\u001b[0m \u001b[0mcredentials_path\u001b[0m \u001b[1;33m=\u001b[0m \u001b[0mos\u001b[0m\u001b[1;33m.\u001b[0m\u001b[0mpath\u001b[0m\u001b[1;33m.\u001b[0m\u001b[0mjoin\u001b[0m\u001b[1;33m(\u001b[0m\u001b[0mos\u001b[0m\u001b[1;33m.\u001b[0m\u001b[0menviron\u001b[0m\u001b[1;33m[\u001b[0m\u001b[1;34m'USERPROFILE'\u001b[0m\u001b[1;33m]\u001b[0m\u001b[1;33m,\u001b[0m \u001b[1;34m'Documents'\u001b[0m\u001b[1;33m,\u001b[0m \u001b[1;34m'credentials_path'\u001b[0m\u001b[1;33m,\u001b[0m \u001b[1;34m'gbq.json'\u001b[0m\u001b[1;33m)\u001b[0m\u001b[1;33m\u001b[0m\u001b[1;33m\u001b[0m\u001b[0m\n\u001b[1;32m----> 3\u001b[1;33m \u001b[0mcredentials\u001b[0m \u001b[1;33m=\u001b[0m \u001b[0mCredentials\u001b[0m\u001b[1;33m.\u001b[0m\u001b[0mfrom_service_account_file\u001b[0m\u001b[1;33m(\u001b[0m\u001b[0mcredentials_path\u001b[0m\u001b[1;33m)\u001b[0m\u001b[1;33m\u001b[0m\u001b[1;33m\u001b[0m\u001b[0m\n\u001b[0m",
      "\u001b[1;31mNameError\u001b[0m: name 'Credentials' is not defined"
     ]
    }
   ],
   "source": [
    "load_dotenv()\n",
    "credentials_path = os.path.join(os.environ['USERPROFILE'], 'Documents', 'credentials_path', 'gbq.json')\n",
    "credentials = Credentials.from_service_account_file(credentials_path)"
   ]
  },
  {
   "cell_type": "code",
   "execution_count": null,
   "id": "1f2bd138",
   "metadata": {},
   "outputs": [],
   "source": [
    "from google.oauth2.service_account import Credentials\n",
    "\n",
    "credentials = Credentials.from_service_account_file(credentials_path)"
   ]
  },
  {
   "cell_type": "code",
   "execution_count": null,
   "id": "b74bcfac",
   "metadata": {},
   "outputs": [],
   "source": [
    "dim_scenario.to_gbq(credentials=credentials, destination_table='etl_sqlserver_strategy.DimScenario',\n",
    "                 if_exists='replace',\n",
    "                   project_id='second-grail-352314'\n",
    "                  )"
   ]
  },
  {
   "cell_type": "code",
   "execution_count": null,
   "id": "c1867ade",
   "metadata": {},
   "outputs": [],
   "source": [
    "dim_account.to_gbq(credentials=credentials, destination_table='etl_sqlserver_strategy.DimAccount',\n",
    "                 if_exists='replace',\n",
    "                   project_id='second-grail-352314'"
   ]
  },
  {
   "cell_type": "code",
   "execution_count": null,
   "id": "5c2c1ff0",
   "metadata": {},
   "outputs": [],
   "source": [
    "dim_productcategory.to_gbq(credentials=credentials, destination_table='etl_sqlserver_strategy.DimProductCategory',\n",
    "                 if_exists='replace',\n",
    "                   project_id='second-grail-352314'\n",
    "                  )"
   ]
  },
  {
   "cell_type": "code",
   "execution_count": null,
   "id": "27e243db",
   "metadata": {},
   "outputs": [],
   "source": [
    "fact_strategyplan.to_gbq(credentials=credentials, destination_table='etl_sqlserver_strategy.FactStrategyPlan',\n",
    "                 if_exists='replace',\n",
    "                   project_id='second-grail-352314'\n",
    "                  )"
   ]
  },
  {
   "cell_type": "code",
   "execution_count": null,
   "id": "535354a9",
   "metadata": {},
   "outputs": [],
   "source": []
  },
  {
   "cell_type": "code",
   "execution_count": null,
   "id": "e187d16d",
   "metadata": {},
   "outputs": [],
   "source": []
  },
  {
   "cell_type": "code",
   "execution_count": null,
   "id": "b7040ea9",
   "metadata": {},
   "outputs": [],
   "source": []
  },
  {
   "cell_type": "code",
   "execution_count": null,
   "id": "d5c787eb",
   "metadata": {},
   "outputs": [],
   "source": [
    "\n",
    "                  "
   ]
  },
  {
   "cell_type": "code",
   "execution_count": null,
   "id": "a1d9457b",
   "metadata": {},
   "outputs": [],
   "source": [
    "### Schemas\n",
    "\n",
    "# FactSales==DimDate, Dimchannel,DimStore,DimProduct,DimPromotion,DimCurrency\n",
    "# FactExchangeRate==DimCurrency\n",
    "# FactInventory==DimStore,DimDate,DimProduct,DimCurrency\n",
    "# FactITMachine==DimMachine,DimDate\n",
    "# FactITSLA == DimDate,DimStore,DimMachine,DimOutage\n",
    "# FactOnlineSales==DimDate,DimStore,DimProduct,DimPromotion,DimCurrency,DimCustomer\n",
    "# FactSalesQuota==DimSalesQuota,DimChannel,DimStore,DimProduct,DimDate,DimCurrency,DimScenario\n",
    "# FactStrategyPlan==DimDate,DimScenario,DimAccount,DimCurrency,DimProductCategory"
   ]
  },
  {
   "cell_type": "code",
   "execution_count": null,
   "id": "bf0b4551",
   "metadata": {},
   "outputs": [],
   "source": []
  }
 ],
 "metadata": {
  "kernelspec": {
   "display_name": "Python 3 (ipykernel)",
   "language": "python",
   "name": "python3"
  },
  "language_info": {
   "codemirror_mode": {
    "name": "ipython",
    "version": 3
   },
   "file_extension": ".py",
   "mimetype": "text/x-python",
   "name": "python",
   "nbconvert_exporter": "python",
   "pygments_lexer": "ipython3",
   "version": "3.9.13"
  }
 },
 "nbformat": 4,
 "nbformat_minor": 5
}
